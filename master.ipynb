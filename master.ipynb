{
 "cells": [
  {
   "cell_type": "code",
   "execution_count": 31,
   "metadata": {
    "collapsed": false
   },
   "outputs": [],
   "source": [
    "import pandas as pd\n",
    "import json\n",
    "import myql\n",
    "from yahoo_oauth import OAuth1\n",
    "import matplotlib.pyplot as plt\n",
    "import seaborn\n",
    "%matplotlib inline"
   ]
  },
  {
   "cell_type": "code",
   "execution_count": 2,
   "metadata": {
    "collapsed": false
   },
   "outputs": [],
   "source": [
    "cols = ['Name', 'Team', 'GP', 'G', 'A', 'Pts', 'PIM', 'PPP', 'SOG', 'FW', 'Hits']\n",
    "# reads 2012 data\n",
    "df12 = pd.read_csv('Stats/Fantasy Hockey Stats - 2012.csv')\n",
    "df12['PPP'] = df12.PPG+df12.PPA\n",
    "df12 = df12[cols]\n",
    "# reads 2013 data\n",
    "df13 = pd.read_csv('Stats/Fantasy Hockey Stats - 2013.csv')\n",
    "df13['PPP'] = df13.PPG+df13.PPA\n",
    "df13 = df13[cols]\n",
    "# reads 2014 data\n",
    "df14 = pd.read_csv('Stats/Fantasy Hockey Stats - 2014.csv')\n",
    "df14['PPP'] = df14.PPG+df14.PPA\n",
    "df14 = df14[cols]\n",
    "# reads 2015 data\n",
    "df15 = pd.read_html(\n",
    "    \"http://sports.yahoo.com/nhl/stats/byposition?pos=C%2CRW%2CLW%2CD&sort=14&conference=NHL&year=season_2015\",\n",
    "    match = 'Name', flavor = 'bs4', header = 0)[0]\n",
    "df15['PPP'] = df15.PPG+df15.PPA\n",
    "df15 = df15[cols]"
   ]
  },
  {
   "cell_type": "code",
   "execution_count": 3,
   "metadata": {
    "collapsed": true
   },
   "outputs": [],
   "source": [
    "# reads goalie data\n",
    "g12 = pd.read_csv('Stats/Fantasy Hockey Stats - g12.csv')\n",
    "g13 = pd.read_csv('Stats/Fantasy Hockey Stats - g13.csv')\n",
    "g14 = pd.read_csv('Stats/Fantasy Hockey Stats - g14.csv')\n",
    "g15 = pd.read_html('http://sports.yahoo.com/nhl/stats/byposition?pos=G&sort=102&conference=NHL&year=season_2015',\n",
    "    match = 'Name', flavor = 'bs4', header = 0)[0]"
   ]
  },
  {
   "cell_type": "code",
   "execution_count": 4,
   "metadata": {
    "collapsed": false
   },
   "outputs": [],
   "source": [
    "# merges data\n",
    "df = df15.append(df12)\n",
    "df = df.append(df13)\n",
    "df = df.append(df14)\n",
    "df = df.groupby('Name').sum()\n",
    "gf = g15.append(g12)\n",
    "gf = gf.append(g13)\n",
    "gf = gf.append(g14)\n",
    "gf = gf.groupby('Name').sum()"
   ]
  },
  {
   "cell_type": "code",
   "execution_count": 5,
   "metadata": {
    "collapsed": false
   },
   "outputs": [],
   "source": [
    "# creates skater average stats\n",
    "df['G_avg'] = df['G']/df['GP']\n",
    "df['A_avg'] = df['A']/df['GP']\n",
    "df['P_avg'] = df['Pts']/df['GP']\n",
    "df['PIM_avg'] = df['PIM']/df['GP']\n",
    "df['PPP_avg'] = df['PPP']/df['GP']\n",
    "df['SOG_avg'] = df['SOG']/df['GP']\n",
    "df['FW_avg'] = df['FW']/df['GP']\n",
    "df['HITS_avg'] = df['Hits']/df['GP']\n",
    "avg_cols = ['GP', 'G_avg', 'A_avg', 'P_avg', 'PIM_avg', 'PPP_avg', \n",
    "            'SOG_avg', 'FW_avg', 'HITS_avg']\n",
    "skaters = df[avg_cols]"
   ]
  },
  {
   "cell_type": "code",
   "execution_count": 6,
   "metadata": {
    "collapsed": false
   },
   "outputs": [],
   "source": [
    "# creates goalie average stats\n",
    "gf_cols = ['GP', 'MIN', 'SV', 'SA', 'GA']\n",
    "gf = gf[gf_cols]\n",
    "gf['SV%'] = gf['SV']/gf['SA']\n",
    "gf['GAA'] = gf['GA']/ (gf['MIN'] / 60)\n",
    "gf['POS'] = 'G'\n",
    "gf['SV_avg'] = gf['SV']/gf['GP']\n",
    "gfGP = gf['GP']\n",
    "gf = gf[['GAA', 'SV_avg', 'SV%']]\n",
    "gf['GAA'] = gf['GAA'] * -1"
   ]
  },
  {
   "cell_type": "code",
   "execution_count": 7,
   "metadata": {
    "collapsed": false
   },
   "outputs": [],
   "source": [
    "# adds positions\n",
    "file = pd.read_csv('Stats/Fantasy Hockey Stats - Defense.csv')\n",
    "defense = df[avg_cols][df.index.isin(file['Name'])]\n",
    "forwards = df[avg_cols][~df.index.isin(file['Name'])]\n",
    "\n",
    "# limits to players active this season\n",
    "defense = defense[defense.index.isin(df15['Name'])]\n",
    "forwards = forwards[forwards.index.isin(df15['Name'])]\n",
    "goalies = gf[gf.index.isin(g15['Name'])]"
   ]
  },
  {
   "cell_type": "code",
   "execution_count": 8,
   "metadata": {
    "collapsed": false
   },
   "outputs": [],
   "source": [
    "# strips and saves games played data\n",
    "skatersGP = skaters.GP\n",
    "skaters = skaters[skaters.columns[1:]]\n",
    "defenseGP = defense.GP\n",
    "defense = defense[defense.columns[1:]]\n",
    "forwardsGP = forwards.GP\n",
    "forwards = forwards[forwards.columns[1:]]"
   ]
  },
  {
   "cell_type": "code",
   "execution_count": 9,
   "metadata": {
    "collapsed": false
   },
   "outputs": [],
   "source": [
    "# normalizes data\n",
    "\n",
    "defense_norm = (defense - defense.mean()) / defense.std()\n",
    "defense_norm['Score'] = defense_norm.sum(axis=1)\n",
    "defense_norm['GP'] = defenseGP\n",
    "\n",
    "forwards_norm = (forwards - forwards.mean()) / forwards.std()\n",
    "forwards_norm['Score'] = forwards_norm.sum(axis=1)\n",
    "forwards_norm['GP'] = forwardsGP\n",
    "\n",
    "goalies_norm = (goalies - goalies.mean()) / goalies.std()\n",
    "goalies_norm['Score'] = goalies_norm.sum(axis=1)\n",
    "goalies_norm['GP'] = gfGP"
   ]
  },
  {
   "cell_type": "code",
   "execution_count": 10,
   "metadata": {
    "collapsed": false
   },
   "outputs": [],
   "source": [
    "# ranks by position\n",
    "\n",
    "defense = defense_norm.sort('Score', ascending=False)\n",
    "rank = list(range(1,len(defense)+1))\n",
    "defense['PRank'] = rank\n",
    "defense['POS'] = 'D'\n",
    "defense = defense[['PRank', 'Score', 'POS', 'GP','G_avg', 'A_avg', 'P_avg', \n",
    "                   'PIM_avg', 'PPP_avg', 'SOG_avg', 'FW_avg', 'HITS_avg']]\n",
    "\n",
    "forwards = forwards_norm.sort('Score', ascending=False)\n",
    "rank = list(range(1,len(forwards)+1))\n",
    "forwards['PRank'] = rank\n",
    "forwards['POS'] = 'F'\n",
    "forwards = forwards[['PRank', 'Score', 'POS', 'GP','G_avg', 'A_avg', 'P_avg',\n",
    "                     'PIM_avg', 'PPP_avg', 'SOG_avg', 'FW_avg', 'HITS_avg']]\n",
    "\n",
    "goalies = goalies_norm.sort('Score', ascending=False)\n",
    "rank = list(range(1,len(goalies)+1))\n",
    "goalies['PRank'] = rank\n",
    "goalies['POS'] = 'G'\n",
    "goalies = goalies[['PRank', 'Score', 'POS', 'GP','GAA', 'SV_avg', 'SV%']]"
   ]
  },
  {
   "cell_type": "code",
   "execution_count": 11,
   "metadata": {
    "collapsed": false
   },
   "outputs": [],
   "source": [
    "# merges positions and adds overall rank\n",
    "allskaters = defense.append(forwards)\n",
    "allskaters = allskaters.append(goalies)\n",
    "allskaters = allskaters.sort('Score', ascending = False)\n",
    "ORank = list(range(1, len(allskaters)+1))\n",
    "allskaters['ORank'] = ORank\n",
    "allskaters['Team'] = 'FA'\n",
    "allskaters = allskaters[['ORank', 'PRank', 'Score', 'Team', 'POS', 'GP','G_avg', 'A_avg', \n",
    "                         'P_avg', 'PIM_avg', 'PPP_avg', 'SOG_avg', 'FW_avg', 'HITS_avg',\n",
    "                        'GAA', 'SV_avg', 'SV%']]"
   ]
  },
  {
   "cell_type": "code",
   "execution_count": 12,
   "metadata": {
    "collapsed": false
   },
   "outputs": [
    {
     "name": "stderr",
     "output_type": "stream",
     "text": [
      "[2016-03-31 11:29:14,460 DEBUG] [yahoo_oauth.yahoo_oauth.__init__] Checking \n",
      "[2016-03-31 11:29:14,465 DEBUG] [yahoo_oauth.yahoo_oauth.token_is_valid] ELAPSED TIME : 120672.08441901207\n",
      "[2016-03-31 11:29:14,466 DEBUG] [yahoo_oauth.yahoo_oauth.token_is_valid] TOKEN HAS EXPIRED\n",
      "[2016-03-31 11:29:14,467 DEBUG] [yahoo_oauth.yahoo_oauth.refresh_access_token] REFRESHING TOKEN\n"
     ]
    }
   ],
   "source": [
    "oauth = OAuth1(None, None, from_file='credentials.json')\n",
    "yql = myql.MYQL(oauth = oauth)"
   ]
  },
  {
   "cell_type": "code",
   "execution_count": 13,
   "metadata": {
    "collapsed": false
   },
   "outputs": [
    {
     "name": "stderr",
     "output_type": "stream",
     "text": [
      "[2016-03-31 11:29:15,275 DEBUG] [yahoo_oauth.yahoo_oauth.token_is_valid] ELAPSED TIME : 0.8072900772094727\n",
      "[2016-03-31 11:29:15,276 DEBUG] [yahoo_oauth.yahoo_oauth.token_is_valid] TOKEN IS STILL VALID\n"
     ]
    }
   ],
   "source": [
    "response = yql.raw_query(\"select * from fantasysports.teams.roster where league_key='352.l.63158'\")\n",
    "data = response.json()"
   ]
  },
  {
   "cell_type": "code",
   "execution_count": 14,
   "metadata": {
    "collapsed": true
   },
   "outputs": [],
   "source": [
    "with open('rosters.json', 'w') as outfile:\n",
    "    json.dump(data, outfile)"
   ]
  },
  {
   "cell_type": "code",
   "execution_count": 15,
   "metadata": {
    "collapsed": true
   },
   "outputs": [],
   "source": [
    "# creates dict of team rosters\n",
    "with open('rosters.json') as data_file:    \n",
    "    data = json.load(data_file)\n",
    "teams = []\n",
    "for num in range(0,14):\n",
    "    teams.append(data['query']['results']['team'][num]['name'])\n",
    "count = 0\n",
    "rosters = {}\n",
    "for team in teams:\n",
    "    rosters[team] = []\n",
    "    for num in range(0, int(data['query']['results']['team'][count]\n",
    "                            ['roster']['players']['count'])):\n",
    "        rosters[team].append(data['query']['results']['team'][count]\n",
    "                             ['roster']['players']['player'][num]['name']['full'])\n",
    "    count +=1"
   ]
  },
  {
   "cell_type": "code",
   "execution_count": 16,
   "metadata": {
    "collapsed": false
   },
   "outputs": [
    {
     "name": "stderr",
     "output_type": "stream",
     "text": [
      "//anaconda/lib/python3.4/site-packages/ipykernel/__main__.py:18: SettingWithCopyWarning: \n",
      "A value is trying to be set on a copy of a slice from a DataFrame\n",
      "\n",
      "See the the caveats in the documentation: http://pandas.pydata.org/pandas-docs/stable/indexing.html#indexing-view-versus-copy\n",
      "//anaconda/lib/python3.4/site-packages/ipykernel/__main__.py:19: SettingWithCopyWarning: \n",
      "A value is trying to be set on a copy of a slice from a DataFrame\n",
      "\n",
      "See the the caveats in the documentation: http://pandas.pydata.org/pandas-docs/stable/indexing.html#indexing-view-versus-copy\n",
      "//anaconda/lib/python3.4/site-packages/ipykernel/__main__.py:20: SettingWithCopyWarning: \n",
      "A value is trying to be set on a copy of a slice from a DataFrame\n",
      "\n",
      "See the the caveats in the documentation: http://pandas.pydata.org/pandas-docs/stable/indexing.html#indexing-view-versus-copy\n",
      "//anaconda/lib/python3.4/site-packages/ipykernel/__main__.py:21: SettingWithCopyWarning: \n",
      "A value is trying to be set on a copy of a slice from a DataFrame\n",
      "\n",
      "See the the caveats in the documentation: http://pandas.pydata.org/pandas-docs/stable/indexing.html#indexing-view-versus-copy\n",
      "//anaconda/lib/python3.4/site-packages/ipykernel/__main__.py:22: SettingWithCopyWarning: \n",
      "A value is trying to be set on a copy of a slice from a DataFrame\n",
      "\n",
      "See the the caveats in the documentation: http://pandas.pydata.org/pandas-docs/stable/indexing.html#indexing-view-versus-copy\n",
      "//anaconda/lib/python3.4/site-packages/ipykernel/__main__.py:23: SettingWithCopyWarning: \n",
      "A value is trying to be set on a copy of a slice from a DataFrame\n",
      "\n",
      "See the the caveats in the documentation: http://pandas.pydata.org/pandas-docs/stable/indexing.html#indexing-view-versus-copy\n",
      "//anaconda/lib/python3.4/site-packages/ipykernel/__main__.py:24: SettingWithCopyWarning: \n",
      "A value is trying to be set on a copy of a slice from a DataFrame\n",
      "\n",
      "See the the caveats in the documentation: http://pandas.pydata.org/pandas-docs/stable/indexing.html#indexing-view-versus-copy\n",
      "//anaconda/lib/python3.4/site-packages/ipykernel/__main__.py:25: SettingWithCopyWarning: \n",
      "A value is trying to be set on a copy of a slice from a DataFrame\n",
      "\n",
      "See the the caveats in the documentation: http://pandas.pydata.org/pandas-docs/stable/indexing.html#indexing-view-versus-copy\n",
      "//anaconda/lib/python3.4/site-packages/ipykernel/__main__.py:26: SettingWithCopyWarning: \n",
      "A value is trying to be set on a copy of a slice from a DataFrame\n",
      "\n",
      "See the the caveats in the documentation: http://pandas.pydata.org/pandas-docs/stable/indexing.html#indexing-view-versus-copy\n",
      "//anaconda/lib/python3.4/site-packages/ipykernel/__main__.py:27: SettingWithCopyWarning: \n",
      "A value is trying to be set on a copy of a slice from a DataFrame\n",
      "\n",
      "See the the caveats in the documentation: http://pandas.pydata.org/pandas-docs/stable/indexing.html#indexing-view-versus-copy\n",
      "//anaconda/lib/python3.4/site-packages/ipykernel/__main__.py:28: SettingWithCopyWarning: \n",
      "A value is trying to be set on a copy of a slice from a DataFrame\n",
      "\n",
      "See the the caveats in the documentation: http://pandas.pydata.org/pandas-docs/stable/indexing.html#indexing-view-versus-copy\n",
      "//anaconda/lib/python3.4/site-packages/ipykernel/__main__.py:29: SettingWithCopyWarning: \n",
      "A value is trying to be set on a copy of a slice from a DataFrame\n",
      "\n",
      "See the the caveats in the documentation: http://pandas.pydata.org/pandas-docs/stable/indexing.html#indexing-view-versus-copy\n",
      "//anaconda/lib/python3.4/site-packages/ipykernel/__main__.py:30: SettingWithCopyWarning: \n",
      "A value is trying to be set on a copy of a slice from a DataFrame\n",
      "\n",
      "See the the caveats in the documentation: http://pandas.pydata.org/pandas-docs/stable/indexing.html#indexing-view-versus-copy\n"
     ]
    }
   ],
   "source": [
    "# creates dataframe of each team and adds team to allskaters\n",
    "Game_of_Doans = allskaters[allskaters.index.isin(rosters['Game of Doans'])]\n",
    "Horsedick = allskaters[allskaters.index.isin(rosters['Horsedick.mpeg'])]\n",
    "Fists_of_Fleury = allskaters[allskaters.index.isin(rosters['Fists of Fleury'])]\n",
    "Munson_Munson = allskaters[allskaters.index.isin(rosters['Munson Munson'])]\n",
    "The_Ants = allskaters[allskaters.index.isin(rosters['The Ants'])]\n",
    "Ricks_Red_Wingels = allskaters[allskaters.index.isin(rosters[\"Rick's Red Wingels\"])]\n",
    "CamelToews = allskaters[allskaters.index.isin(rosters['CamelToews'])]\n",
    "Sarahs_Super_Team = allskaters[allskaters.index.isin(rosters[\"Sarah's Super Team\"])]\n",
    "Nordic_Supermen = allskaters[allskaters.index.isin(rosters['Nordic Supermen'])]\n",
    "DeKeyser = allskaters[allskaters.index.isin(rosters['DeKeyser Söze'])]\n",
    "Shiroi_Kabocha = allskaters[allskaters.index.isin(rosters['Shiroi Kabocha'])]\n",
    "Brooklyn_Solar_Bears = allskaters[allskaters.index.isin(rosters['Brooklyn Solar Bears'])]\n",
    "STEPANWOLF = allskaters[allskaters.index.isin(rosters['STEPANWOLF'])]\n",
    "Caress_of_Krieger = allskaters[allskaters.index.isin(rosters['Caress of Krieger'])]\n",
    "\n",
    "allskaters['Team'][allskaters.index.isin(Game_of_Doans.index)] = 'Game of Doans'\n",
    "allskaters['Team'][allskaters.index.isin(Horsedick.index)] = 'Horsedick.mpeg'\n",
    "allskaters['Team'][allskaters.index.isin(Fists_of_Fleury.index)] = 'Fists of Fleury'\n",
    "allskaters['Team'][allskaters.index.isin(Munson_Munson.index)] = 'Munson Munson'\n",
    "allskaters['Team'][allskaters.index.isin(The_Ants.index)] = 'The Ants'\n",
    "allskaters['Team'][allskaters.index.isin(Ricks_Red_Wingels.index)] = \"Rick's Red Wingels\"\n",
    "allskaters['Team'][allskaters.index.isin(CamelToews.index)] = 'CamelToews'\n",
    "allskaters['Team'][allskaters.index.isin(Sarahs_Super_Team.index)] = \"Sarah's Super Team\"\n",
    "allskaters['Team'][allskaters.index.isin(Nordic_Supermen.index)] = 'Nordic Supermen'\n",
    "allskaters['Team'][allskaters.index.isin(DeKeyser.index)] = 'DeKeyser Söze'\n",
    "allskaters['Team'][allskaters.index.isin(Shiroi_Kabocha.index)] = 'Shiroi Kabocha'\n",
    "allskaters['Team'][allskaters.index.isin(Brooklyn_Solar_Bears.index)] = 'Brooklyn Solar Bears'\n",
    "allskaters['Team'][allskaters.index.isin(STEPANWOLF.index)] = 'STEPANWOLF'\n",
    "allskaters['Team'][allskaters.index.isin(Caress_of_Krieger.index)] = 'Caress of Krieger'\n",
    "\n",
    "Game_of_Doans = allskaters[allskaters.index.isin(rosters['Game of Doans'])]\n",
    "Horsedick = allskaters[allskaters.index.isin(rosters['Horsedick.mpeg'])]\n",
    "Fists_of_Fleury = allskaters[allskaters.index.isin(rosters['Fists of Fleury'])]\n",
    "Munson_Munson = allskaters[allskaters.index.isin(rosters['Munson Munson'])]\n",
    "The_Ants = allskaters[allskaters.index.isin(rosters['The Ants'])]\n",
    "Ricks_Red_Wingels = allskaters[allskaters.index.isin(rosters[\"Rick's Red Wingels\"])]\n",
    "CamelToews = allskaters[allskaters.index.isin(rosters['CamelToews'])]\n",
    "Sarahs_Super_Team = allskaters[allskaters.index.isin(rosters[\"Sarah's Super Team\"])]\n",
    "Nordic_Supermen = allskaters[allskaters.index.isin(rosters['Nordic Supermen'])]\n",
    "DeKeyser = allskaters[allskaters.index.isin(rosters['DeKeyser Söze'])]\n",
    "Shiroi_Kabocha = allskaters[allskaters.index.isin(rosters['Shiroi Kabocha'])]\n",
    "Brooklyn_Solar_Bears = allskaters[allskaters.index.isin(rosters['Brooklyn Solar Bears'])]\n",
    "STEPANWOLF = allskaters[allskaters.index.isin(rosters['STEPANWOLF'])]\n",
    "Caress_of_Krieger = allskaters[allskaters.index.isin(rosters['Caress of Krieger'])]\n",
    "\n",
    "FA = allskaters[allskaters.Team == 'FA']"
   ]
  },
  {
   "cell_type": "code",
   "execution_count": 17,
   "metadata": {
    "collapsed": false
   },
   "outputs": [],
   "source": [
    "def lookup(*args):\n",
    "    players = list(args)\n",
    "    return(allskaters[allskaters.index.isin(players)])\n",
    "\n",
    "def value(player):\n",
    "    return lookup(player).append(Game_of_Doans[Game_of_Doans['Score'] \n",
    "                                               < list(lookup(player)['Score'])])\n",
    "def compare(team):\n",
    "    compare = allskaters.groupby('Team').sum()\n",
    "    compare = compare.drop('FA')\n",
    "    compare = compare[['G_avg', 'A_avg', 'P_avg', 'PIM_avg', 'PPP_avg', \n",
    "         'SOG_avg', 'FW_avg', 'HITS_avg', 'GAA', 'SV_avg', 'SV%']]\n",
    "    compare = compare[compare.index.isin([team])].append(\n",
    "        compare[compare.index.isin(['Game of Doans'])])\n",
    "    return(compare)\n",
    "\n",
    "def rankings():\n",
    "    df = allskaters.groupby('Team').sum().drop('FA').ix[:,'G_avg':]\n",
    "    for col in df:\n",
    "        df[col] = df[col].rank(ascending = False)\n",
    "    df['Rank'] = df.mean(axis=1)\n",
    "    df['Rank'] = df['Rank'].rank()\n",
    "    return(df[['Rank', 'G_avg', 'A_avg', 'P_avg', 'PIM_avg', 'PPP_avg', \n",
    "         'SOG_avg', 'FW_avg', 'HITS_avg', 'GAA', 'SV_avg', 'SV%']].sort_values('Rank'))"
   ]
  },
  {
   "cell_type": "code",
   "execution_count": 47,
   "metadata": {
    "collapsed": false
   },
   "outputs": [],
   "source": [
    "Game_of_Doans.to_csv('team.csv')"
   ]
  },
  {
   "cell_type": "code",
   "execution_count": 19,
   "metadata": {
    "collapsed": false
   },
   "outputs": [
    {
     "data": {
      "text/html": [
       "<div>\n",
       "<table border=\"1\" class=\"dataframe\">\n",
       "  <thead>\n",
       "    <tr style=\"text-align: right;\">\n",
       "      <th></th>\n",
       "      <th>ORank</th>\n",
       "      <th>PRank</th>\n",
       "      <th>Score</th>\n",
       "      <th>Team</th>\n",
       "      <th>POS</th>\n",
       "      <th>GP</th>\n",
       "      <th>G_avg</th>\n",
       "      <th>A_avg</th>\n",
       "      <th>P_avg</th>\n",
       "      <th>PIM_avg</th>\n",
       "      <th>PPP_avg</th>\n",
       "      <th>SOG_avg</th>\n",
       "      <th>FW_avg</th>\n",
       "      <th>HITS_avg</th>\n",
       "      <th>GAA</th>\n",
       "      <th>SV_avg</th>\n",
       "      <th>SV%</th>\n",
       "    </tr>\n",
       "    <tr>\n",
       "      <th>Name</th>\n",
       "      <th></th>\n",
       "      <th></th>\n",
       "      <th></th>\n",
       "      <th></th>\n",
       "      <th></th>\n",
       "      <th></th>\n",
       "      <th></th>\n",
       "      <th></th>\n",
       "      <th></th>\n",
       "      <th></th>\n",
       "      <th></th>\n",
       "      <th></th>\n",
       "      <th></th>\n",
       "      <th></th>\n",
       "      <th></th>\n",
       "      <th></th>\n",
       "      <th></th>\n",
       "    </tr>\n",
       "  </thead>\n",
       "  <tbody>\n",
       "    <tr>\n",
       "      <th>Casey Nelson</th>\n",
       "      <td>22</td>\n",
       "      <td>14</td>\n",
       "      <td>11.412550</td>\n",
       "      <td>FA</td>\n",
       "      <td>F</td>\n",
       "      <td>3</td>\n",
       "      <td>-1.344678</td>\n",
       "      <td>6.720640</td>\n",
       "      <td>3.859573</td>\n",
       "      <td>-1.061313</td>\n",
       "      <td>5.956055</td>\n",
       "      <td>-1.644463</td>\n",
       "      <td>-0.687475</td>\n",
       "      <td>-0.385790</td>\n",
       "      <td>NaN</td>\n",
       "      <td>NaN</td>\n",
       "      <td>NaN</td>\n",
       "    </tr>\n",
       "    <tr>\n",
       "      <th>Erik Karlsson</th>\n",
       "      <td>4</td>\n",
       "      <td>2</td>\n",
       "      <td>16.921034</td>\n",
       "      <td>Horsedick.mpeg</td>\n",
       "      <td>D</td>\n",
       "      <td>258</td>\n",
       "      <td>3.365156</td>\n",
       "      <td>3.600106</td>\n",
       "      <td>3.741999</td>\n",
       "      <td>-0.061678</td>\n",
       "      <td>3.137665</td>\n",
       "      <td>3.542322</td>\n",
       "      <td>-0.130995</td>\n",
       "      <td>-0.273542</td>\n",
       "      <td>NaN</td>\n",
       "      <td>NaN</td>\n",
       "      <td>NaN</td>\n",
       "    </tr>\n",
       "    <tr>\n",
       "      <th>Kris Letang</th>\n",
       "      <td>6</td>\n",
       "      <td>4</td>\n",
       "      <td>16.392217</td>\n",
       "      <td>The Ants</td>\n",
       "      <td>D</td>\n",
       "      <td>207</td>\n",
       "      <td>2.702558</td>\n",
       "      <td>3.417583</td>\n",
       "      <td>3.399021</td>\n",
       "      <td>0.660970</td>\n",
       "      <td>3.170712</td>\n",
       "      <td>2.783932</td>\n",
       "      <td>-0.130995</td>\n",
       "      <td>0.388436</td>\n",
       "      <td>NaN</td>\n",
       "      <td>NaN</td>\n",
       "      <td>NaN</td>\n",
       "    </tr>\n",
       "    <tr>\n",
       "      <th>Sidney Crosby</th>\n",
       "      <td>2</td>\n",
       "      <td>1</td>\n",
       "      <td>17.618875</td>\n",
       "      <td>Brooklyn Solar Bears</td>\n",
       "      <td>F</td>\n",
       "      <td>268</td>\n",
       "      <td>2.391430</td>\n",
       "      <td>3.459754</td>\n",
       "      <td>3.349086</td>\n",
       "      <td>0.081775</td>\n",
       "      <td>3.264779</td>\n",
       "      <td>2.159147</td>\n",
       "      <td>3.503633</td>\n",
       "      <td>-0.590729</td>\n",
       "      <td>NaN</td>\n",
       "      <td>NaN</td>\n",
       "      <td>NaN</td>\n",
       "    </tr>\n",
       "    <tr>\n",
       "      <th>Brent Burns</th>\n",
       "      <td>1</td>\n",
       "      <td>1</td>\n",
       "      <td>31.638642</td>\n",
       "      <td>Game of Doans</td>\n",
       "      <td>D</td>\n",
       "      <td>258</td>\n",
       "      <td>4.437301</td>\n",
       "      <td>2.165337</td>\n",
       "      <td>3.002452</td>\n",
       "      <td>0.340621</td>\n",
       "      <td>2.109303</td>\n",
       "      <td>3.824511</td>\n",
       "      <td>15.328900</td>\n",
       "      <td>0.430216</td>\n",
       "      <td>NaN</td>\n",
       "      <td>NaN</td>\n",
       "      <td>NaN</td>\n",
       "    </tr>\n",
       "  </tbody>\n",
       "</table>\n",
       "</div>"
      ],
      "text/plain": [
       "               ORank  PRank      Score                  Team POS   GP  \\\n",
       "Name                                                                    \n",
       "Casey Nelson      22     14  11.412550                    FA   F    3   \n",
       "Erik Karlsson      4      2  16.921034        Horsedick.mpeg   D  258   \n",
       "Kris Letang        6      4  16.392217              The Ants   D  207   \n",
       "Sidney Crosby      2      1  17.618875  Brooklyn Solar Bears   F  268   \n",
       "Brent Burns        1      1  31.638642         Game of Doans   D  258   \n",
       "\n",
       "                  G_avg     A_avg     P_avg   PIM_avg   PPP_avg   SOG_avg  \\\n",
       "Name                                                                        \n",
       "Casey Nelson  -1.344678  6.720640  3.859573 -1.061313  5.956055 -1.644463   \n",
       "Erik Karlsson  3.365156  3.600106  3.741999 -0.061678  3.137665  3.542322   \n",
       "Kris Letang    2.702558  3.417583  3.399021  0.660970  3.170712  2.783932   \n",
       "Sidney Crosby  2.391430  3.459754  3.349086  0.081775  3.264779  2.159147   \n",
       "Brent Burns    4.437301  2.165337  3.002452  0.340621  2.109303  3.824511   \n",
       "\n",
       "                  FW_avg  HITS_avg  GAA  SV_avg  SV%  \n",
       "Name                                                  \n",
       "Casey Nelson   -0.687475 -0.385790  NaN     NaN  NaN  \n",
       "Erik Karlsson  -0.130995 -0.273542  NaN     NaN  NaN  \n",
       "Kris Letang    -0.130995  0.388436  NaN     NaN  NaN  \n",
       "Sidney Crosby   3.503633 -0.590729  NaN     NaN  NaN  \n",
       "Brent Burns    15.328900  0.430216  NaN     NaN  NaN  "
      ]
     },
     "execution_count": 19,
     "metadata": {},
     "output_type": "execute_result"
    }
   ],
   "source": [
    "allskaters.sort('P_avg', ascending = False).head()"
   ]
  },
  {
   "cell_type": "code",
   "execution_count": 43,
   "metadata": {
    "collapsed": false
   },
   "outputs": [
    {
     "data": {
      "text/plain": [
       "array([[<matplotlib.axes._subplots.AxesSubplot object at 0x130f3d780>,\n",
       "        <matplotlib.axes._subplots.AxesSubplot object at 0x131704208>,\n",
       "        <matplotlib.axes._subplots.AxesSubplot object at 0x13173e080>],\n",
       "       [<matplotlib.axes._subplots.AxesSubplot object at 0x1317704e0>,\n",
       "        <matplotlib.axes._subplots.AxesSubplot object at 0x1317b93c8>,\n",
       "        <matplotlib.axes._subplots.AxesSubplot object at 0x1317f8080>],\n",
       "       [<matplotlib.axes._subplots.AxesSubplot object at 0x13183e668>,\n",
       "        <matplotlib.axes._subplots.AxesSubplot object at 0x13187aa20>,\n",
       "        <matplotlib.axes._subplots.AxesSubplot object at 0x1318ca358>]], dtype=object)"
      ]
     },
     "execution_count": 43,
     "metadata": {},
     "output_type": "execute_result"
    },
    {
     "data": {
      "image/png": "[encoded data removed]",
      "text/plain": [
       "<matplotlib.figure.Figure at 0x130ea99b0>"
      ]
     },
     "metadata": {},
     "output_type": "display_data"
    }
   ],
   "source": [
    "skaters.hist(bins = 30, figsize = (10,10))"
   ]
  },
  {
   "cell_type": "code",
   "execution_count": null,
   "metadata": {
    "collapsed": true
   },
   "outputs": [],
   "source": []
  }
 ],
 "metadata": {
  "kernelspec": {
   "display_name": "Python 3",
   "language": "python",
   "name": "python3"
  },
  "language_info": {
   "codemirror_mode": {
    "name": "ipython",
    "version": 3
   },
   "file_extension": ".py",
   "mimetype": "text/x-python",
   "name": "python",
   "nbconvert_exporter": "python",
   "pygments_lexer": "ipython3",
   "version": "3.4.4"
  }
 },
 "nbformat": 4,
 "nbformat_minor": 0
}
