{
 "cells": [
  {
   "cell_type": "markdown",
   "metadata": {},
   "source": [
    "Change stats to per game stats"
   ]
  },
  {
   "cell_type": "code",
   "execution_count": 13,
   "metadata": {
    "collapsed": true
   },
   "outputs": [],
   "source": [
    "import pandas as pd\n",
    "from sklearn import linear_model"
   ]
  },
  {
   "cell_type": "code",
   "execution_count": 14,
   "metadata": {
    "collapsed": true
   },
   "outputs": [],
   "source": [
    "categories = ['G', 'A', 'PN', 'SH', 'FO_W', 'HIT']"
   ]
  },
  {
   "cell_type": "code",
   "execution_count": 15,
   "metadata": {
    "collapsed": true
   },
   "outputs": [],
   "source": [
    "def get_stats(stat):\n",
    "    # import stats\n",
    "    season12 = pd.read_csv('Stats/war-on-ice-2012.csv')\n",
    "    season13 = pd.read_csv('Stats/war-on-ice-2013.csv')\n",
    "    season14 = pd.read_csv('Stats/war-on-ice-2014.csv')\n",
    "    # set name as index\n",
    "    season12.index = season12.Name\n",
    "    season13.index = season13.Name\n",
    "    season14.index = season14.Name\n",
    "    # drop columns\n",
    "    season12 = season12.drop(['Unnamed: 0', 'Team', 'Salary', 'AAV', 'season', 'Name', 'pos'], 1)\n",
    "    season13 = season13.drop(['Unnamed: 0', 'Team', 'Salary', 'AAV', 'season', 'Name', 'pos'], 1)\n",
    "    season14 = season14.drop(['Unnamed: 0', 'Team', 'Salary', 'AAV', 'season', 'Name', 'pos'], 1)\n",
    "    # drop retired players\n",
    "    season12 = season12[season12.index.isin(season14.index)]\n",
    "    season13 = season13[season13.index.isin(season14.index)]\n",
    "    # add year to column names\n",
    "    season12.rename(columns=lambda x: x + '_12', inplace=True)\n",
    "    season13.rename(columns=lambda x: x + '_13', inplace=True)\n",
    "    # merge dataframes\n",
    "    temp = season12.merge(season13, left_index = True, right_index = True)\n",
    "    temp = temp.merge(pd.DataFrame(season14[stat]), left_index = True, right_index = True)\n",
    "    temp = temp.dropna()\n",
    "    return temp"
   ]
  },
  {
   "cell_type": "code",
   "execution_count": 16,
   "metadata": {
    "collapsed": false
   },
   "outputs": [],
   "source": [
    "G, A, PN, SH, FO_W, HIT = [get_stats(x) for x in categories]\n",
    "frames = [G, A, PN, SH, FO_W, HIT]\n",
    "for i, df in enumerate(frames):\n",
    "    frames[i] = df[df.columns[df.corr()[categories[i]] > .5]]\n",
    "G, A, PN, SH, FO_W, HIT = frames[:]\n",
    "frames = [G, A, PN, SH, FO_W, HIT]"
   ]
  },
  {
   "cell_type": "code",
   "execution_count": 17,
   "metadata": {
    "collapsed": true
   },
   "outputs": [],
   "source": [
    "data = pd.DataFrame()"
   ]
  },
  {
   "cell_type": "code",
   "execution_count": 18,
   "metadata": {
    "collapsed": false
   },
   "outputs": [
    {
     "name": "stdout",
     "output_type": "stream",
     "text": [
      "G | 0.603422548232\n",
      "A | 0.553061588568\n",
      "PN | 0.242170162213\n",
      "SH | 0.607708194172\n",
      "FO_W | 0.81262377512\n",
      "HIT | 0.365988007457\n"
     ]
    }
   ],
   "source": [
    "for i, df in enumerate(frames):\n",
    "    train = df[0:450]\n",
    "    train_x = train.drop([categories[i]], 1)\n",
    "    train_y = train[categories[i]]\n",
    "    test = df[450:]\n",
    "    test_x = test.drop([categories[i]], 1)\n",
    "    test_index = test.index\n",
    "    regr = linear_model.LinearRegression()\n",
    "    regr.fit(train_x, train_y)\n",
    "    print(categories[i], '|', regr.score(test_x, test[categories[i]]))\n",
    "    data[categories[i]] = regr.predict(test_x).round()\n",
    "    data[categories[i]][data[categories[i]] < 0] = 0"
   ]
  },
  {
   "cell_type": "code",
   "execution_count": 19,
   "metadata": {
    "collapsed": false
   },
   "outputs": [
    {
     "data": {
      "text/html": [
       "<div>\n",
       "<table border=\"1\" class=\"dataframe\">\n",
       "  <thead>\n",
       "    <tr style=\"text-align: right;\">\n",
       "      <th></th>\n",
       "      <th>G_exp</th>\n",
       "      <th>A_exp</th>\n",
       "      <th>PN_exp</th>\n",
       "      <th>SH_exp</th>\n",
       "      <th>FO_W_exp</th>\n",
       "      <th>HIT_exp</th>\n",
       "    </tr>\n",
       "    <tr>\n",
       "      <th>Name</th>\n",
       "      <th></th>\n",
       "      <th></th>\n",
       "      <th></th>\n",
       "      <th></th>\n",
       "      <th></th>\n",
       "      <th></th>\n",
       "    </tr>\n",
       "  </thead>\n",
       "  <tbody>\n",
       "    <tr>\n",
       "      <th>Mike.Santorelli</th>\n",
       "      <td>14</td>\n",
       "      <td>15</td>\n",
       "      <td>6</td>\n",
       "      <td>95</td>\n",
       "      <td>211</td>\n",
       "      <td>41</td>\n",
       "    </tr>\n",
       "    <tr>\n",
       "      <th>David.Savard</th>\n",
       "      <td>4</td>\n",
       "      <td>10</td>\n",
       "      <td>13</td>\n",
       "      <td>55</td>\n",
       "      <td>7</td>\n",
       "      <td>131</td>\n",
       "    </tr>\n",
       "    <tr>\n",
       "      <th>Luca.Sbisa</th>\n",
       "      <td>4</td>\n",
       "      <td>8</td>\n",
       "      <td>11</td>\n",
       "      <td>51</td>\n",
       "      <td>4</td>\n",
       "      <td>99</td>\n",
       "    </tr>\n",
       "    <tr>\n",
       "      <th>Marco.Scandella</th>\n",
       "      <td>4</td>\n",
       "      <td>17</td>\n",
       "      <td>10</td>\n",
       "      <td>89</td>\n",
       "      <td>4</td>\n",
       "      <td>87</td>\n",
       "    </tr>\n",
       "    <tr>\n",
       "      <th>Mark.Scheifele</th>\n",
       "      <td>16</td>\n",
       "      <td>21</td>\n",
       "      <td>8</td>\n",
       "      <td>111</td>\n",
       "      <td>345</td>\n",
       "      <td>67</td>\n",
       "    </tr>\n",
       "  </tbody>\n",
       "</table>\n",
       "</div>"
      ],
      "text/plain": [
       "                 G_exp  A_exp  PN_exp  SH_exp  FO_W_exp  HIT_exp\n",
       "Name                                                            \n",
       "Mike.Santorelli     14     15       6      95       211       41\n",
       "David.Savard         4     10      13      55         7      131\n",
       "Luca.Sbisa           4      8      11      51         4       99\n",
       "Marco.Scandella      4     17      10      89         4       87\n",
       "Mark.Scheifele      16     21       8     111       345       67"
      ]
     },
     "execution_count": 19,
     "metadata": {},
     "output_type": "execute_result"
    }
   ],
   "source": [
    "data.rename(columns=lambda x: x + '_exp', inplace=True)\n",
    "data.index = test.index\n",
    "data.head()"
   ]
  },
  {
   "cell_type": "code",
   "execution_count": 20,
   "metadata": {
    "collapsed": false
   },
   "outputs": [],
   "source": [
    "season14 = pd.read_csv('Stats/war-on-ice-2014.csv')\n",
    "season14.index = season14.Name\n",
    "season14 = season14[categories]\n",
    "season14.rename(columns=lambda x: x + '_act', inplace=True)\n",
    "season14 = season14[season14.index.isin(data.index)]"
   ]
  },
  {
   "cell_type": "code",
   "execution_count": 22,
   "metadata": {
    "collapsed": false
   },
   "outputs": [],
   "source": [
    "data = data.merge(season14, left_index = True, right_index = True)"
   ]
  }
 ],
 "metadata": {
  "kernelspec": {
   "display_name": "Python 3",
   "language": "python",
   "name": "python3"
  },
  "language_info": {
   "codemirror_mode": {
    "name": "ipython",
    "version": 3
   },
   "file_extension": ".py",
   "mimetype": "text/x-python",
   "name": "python",
   "nbconvert_exporter": "python",
   "pygments_lexer": "ipython3",
   "version": "3.4.4"
  }
 },
 "nbformat": 4,
 "nbformat_minor": 0
}
